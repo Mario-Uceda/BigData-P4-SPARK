{
 "cells": [
  {
   "cell_type": "code",
   "execution_count": 1,
   "id": "734a307f-c0ee-4517-8e7b-84e9a6356d24",
   "metadata": {
    "tags": []
   },
   "outputs": [
    {
     "name": "stderr",
     "output_type": "stream",
     "text": [
      "Setting default log level to \"WARN\".\n",
      "To adjust logging level use sc.setLogLevel(newLevel). For SparkR, use setLogLevel(newLevel).\n"
     ]
    }
   ],
   "source": [
    "from pyspark.ml.evaluation import RegressionEvaluator\n",
    "from pyspark.ml.recommendation import ALS\n",
    "from pyspark.sql.functions import *\n",
    "from pyspark.sql import Row\n",
    "from pyspark.sql import SparkSession\n",
    "from pyspark.sql.types import StructField, StructType, StringType, LongType, IntegerType\n",
    "\n",
    "spark = SparkSession.builder.getOrCreate()"
   ]
  },
  {
   "cell_type": "code",
   "execution_count": 2,
   "id": "ccbe0ebf-b47e-4903-9c99-0481af2355bb",
   "metadata": {},
   "outputs": [],
   "source": [
    "custom_schema = StructType([\n",
    "    StructField(\"id\", IntegerType(), True),\n",
    "    StructField(\"fecha\", StringType(), True),\n",
    "    StructField(\"tipo_elem\", StringType(), True),\n",
    "    StructField(\"intensidad\", IntegerType(), True),\n",
    "    StructField(\"ocupacion\", IntegerType(), True),\n",
    "    StructField(\"carga\", IntegerType(), True),\n",
    "    StructField(\"vmed\", IntegerType(), True),\n",
    "    StructField(\"error\", StringType(), True),\n",
    "    StructField(\"periodo_integracion\", IntegerType(), True)\n",
    "])"
   ]
  },
  {
   "cell_type": "code",
   "execution_count": 3,
   "id": "5dd15df8-7842-46a2-9a64-847aac5e3b12",
   "metadata": {
    "tags": []
   },
   "outputs": [],
   "source": [
    "def transformar(ruta):\n",
    "    #Leemos el fichero con el schemo creado anteriormente\n",
    "    df_dia = spark.read.csv(ruta, schema=custom_schema, header=True, sep=';')\n",
    "    #Eliminamos las columnas id y error\n",
    "    df_dia = df_dia.drop('id').drop('error')\n",
    "    #Eliminamos los datos vacíos\n",
    "    df_dia = df_dia.na.drop()\n",
    "    #Con una expresión regular cogemos el día dentro de la columna fecha, la guardamos en la columna día y borramos la de fecha \n",
    "    df_dia = df_dia.select(regexp_extract('fecha', r'^[0-9]{4}-[0-9]{2}-[0-9]{2}', 0).alias('dia'),'*').drop('fecha')\n",
    "    #En el mes de enero de 2018, los valores de la columna tipo_elem están en un formato diferente al resto, en esta fila unificamos formatos\n",
    "    df_dia = df_dia.withColumn(\"tipo_elem\", when(df_dia.tipo_elem == \"PUNTOS MEDIDA M-30\",\"M30\")\n",
    "                               .when(df_dia.tipo_elem == \"PUNTOS MEDIDA URBANOS\",\"URB\")\n",
    "                               .when(df_dia.tipo_elem == \"C30\",\"M30\")\n",
    "                               .otherwise(df_dia.tipo_elem))\n",
    "    #Unimos todos los datos por el día y por el tipo de carretera\n",
    "    df_dia = df_dia.groupBy('dia','tipo_elem').agg(\n",
    "        round(avg(\"intensidad\"),2).alias(\"intensidad\")\n",
    "        ,round(avg(\"ocupacion\"),2).alias(\"ocupacion\")\n",
    "        ,round(avg(\"carga\"),2).alias(\"carga\")\n",
    "        ,round(avg(\"vmed\"),2).alias(\"vmed\")\n",
    "        ,round(avg(\"periodo_integracion\"),2).alias(\"periodo_integracion\"))\n",
    "    \n",
    "    return df_dia"
   ]
  },
  {
   "cell_type": "code",
   "execution_count": 4,
   "id": "83f4c344-ec9d-464a-bb44-942f78261269",
   "metadata": {
    "tags": []
   },
   "outputs": [
    {
     "name": "stderr",
     "output_type": "stream",
     "text": [
      "                                                                                \r"
     ]
    },
    {
     "name": "stdout",
     "output_type": "stream",
     "text": [
      "+----------+---------+----------+---------+-----+-----+-------------------+\n",
      "|       dia|tipo_elem|intensidad|ocupacion|carga| vmed|periodo_integracion|\n",
      "+----------+---------+----------+---------+-----+-----+-------------------+\n",
      "|2018-01-01|      M30|    924.09|     3.26|17.07| 67.9|              11.81|\n",
      "|2018-01-01|      URB|    219.72|     3.87|12.59|  0.0|              13.79|\n",
      "|2018-01-02|      URB|    315.65|     6.04|18.46|  0.0|              14.27|\n",
      "|2018-01-02|      M30|   1274.94|     4.72|23.66| 64.6|              11.86|\n",
      "|2018-01-03|      M30|   1336.29|     5.14|24.78|63.97|              11.83|\n",
      "|2018-01-03|      URB|    334.75|     6.58|19.64|  0.0|              14.35|\n",
      "|2018-01-04|      M30|   1370.41|     5.31|25.37|63.99|              11.87|\n",
      "|2018-01-04|      URB|    346.72|     6.88|20.35|  0.0|              14.38|\n",
      "|2018-01-05|      M30|   1305.48|     5.12|24.23|64.55|              11.83|\n",
      "|2018-01-05|      URB|     338.9|     6.77|20.02|  0.0|              14.37|\n",
      "|2018-01-06|      M30|    983.52|     3.88|18.14|64.14|              11.81|\n",
      "|2018-01-06|      URB|    245.89|     4.68|14.65|  0.0|              13.97|\n",
      "|2018-01-07|      M30|    871.36|     3.15|16.52| 65.3|              11.88|\n",
      "|2018-01-07|      URB|    229.05|     4.18|13.45|  0.0|              14.04|\n",
      "|2018-01-08|      M30|   1346.58|     6.34|25.78|61.27|              11.88|\n",
      "|2018-01-08|      URB|    366.94|     7.43|21.58|  0.0|              14.34|\n",
      "|2018-01-09|      M30|   1354.08|     6.66|25.93| 58.7|              11.85|\n",
      "|2018-01-09|      URB|     375.8|      7.8|22.16|  0.0|              14.35|\n",
      "|2018-01-10|      URB|    379.33|      7.8|22.34|  0.0|              14.38|\n",
      "|2018-01-10|      M30|   1424.63|     6.49|26.49|59.23|              11.88|\n",
      "+----------+---------+----------+---------+-----+-----+-------------------+\n",
      "only showing top 20 rows\n",
      "\n"
     ]
    },
    {
     "name": "stderr",
     "output_type": "stream",
     "text": [
      "                                                                                \r"
     ]
    }
   ],
   "source": [
    "df_2018 = transformar('/data/trafico/DataTrafico/2018/01-2018.csv')\n",
    "df_2018 = df_2018.union(transformar('/data/trafico/DataTrafico/2018/02-2018.csv'))\n",
    "df_2018 = df_2018.union(transformar('/data/trafico/DataTrafico/2018/03-2018.csv'))\n",
    "df_2018 = df_2018.union(transformar('/data/trafico/DataTrafico/2018/04-2018.csv'))\n",
    "df_2018 = df_2018.union(transformar('/data/trafico/DataTrafico/2018/05-2018.csv'))\n",
    "df_2018 = df_2018.union(transformar('/data/trafico/DataTrafico/2018/06-2018.csv'))\n",
    "df_2018 = df_2018.union(transformar('/data/trafico/DataTrafico/2018/07-2018.csv'))\n",
    "df_2018 = df_2018.union(transformar('/data/trafico/DataTrafico/2018/08-2018.csv'))\n",
    "df_2018 = df_2018.union(transformar('/data/trafico/DataTrafico/2018/09-2018.csv'))\n",
    "df_2018 = df_2018.union(transformar('/data/trafico/DataTrafico/2018/10-2018.csv'))\n",
    "df_2018 = df_2018.union(transformar('/data/trafico/DataTrafico/2018/11-2018.csv'))\n",
    "df_2018 = df_2018.union(transformar('/data/trafico/DataTrafico/2018/12-2018.csv'))\n",
    "df_2018.sort(df_2018.dia.asc()).show()\n",
    "df_2018.toPandas().to_csv('/home/22058951Mario/2018.csv', index=False)"
   ]
  },
  {
   "cell_type": "code",
   "execution_count": 5,
   "id": "0b4862dc-bebd-441d-9564-e4c5a7892e38",
   "metadata": {
    "tags": []
   },
   "outputs": [
    {
     "name": "stderr",
     "output_type": "stream",
     "text": [
      "                                                                                \r"
     ]
    },
    {
     "name": "stdout",
     "output_type": "stream",
     "text": [
      "+----------+---------+----------+---------+-----+-----+-------------------+\n",
      "|       dia|tipo_elem|intensidad|ocupacion|carga| vmed|periodo_integracion|\n",
      "+----------+---------+----------+---------+-----+-----+-------------------+\n",
      "|2019-01-01|      M30|     880.8|     3.65|13.34|61.33|              10.26|\n",
      "|2019-01-01|      URB|     228.4|     4.09|12.66|  0.0|              14.01|\n",
      "|2019-01-02|      M30|   1189.77|     5.28|18.64|57.36|              10.11|\n",
      "|2019-01-02|      URB|    332.38|     6.22|18.58|  0.0|              14.21|\n",
      "|2019-01-03|      M30|   1236.98|     5.85|19.46|57.69|              10.19|\n",
      "|2019-01-03|      URB|    352.67|     6.71|19.77|  0.0|              14.33|\n",
      "|2019-01-04|      URB|    365.96|     6.95|20.52|  0.0|              14.29|\n",
      "|2019-01-04|      M30|   1227.78|      6.0|19.99|57.71|              10.28|\n",
      "|2019-01-05|      M30|     913.3|     3.91|15.06| 60.6|              10.36|\n",
      "|2019-01-05|      URB|    281.06|     5.23|15.99|  0.0|              14.27|\n",
      "|2019-01-06|      URB|    264.94|     4.93|14.94|  0.0|              14.14|\n",
      "|2019-01-06|      M30|    940.72|     4.18|14.82|59.82|              10.33|\n",
      "|2019-01-07|      M30|    834.04|     3.37|13.67|61.38|              10.33|\n",
      "|2019-01-07|      URB|    244.18|     4.39| 13.6|  0.0|              14.08|\n",
      "|2019-01-08|      URB|    383.03|     7.31|21.42|  0.0|              14.26|\n",
      "|2019-01-08|      M30|   1318.53|     6.33|20.72|58.25|              10.17|\n",
      "|2019-01-09|      URB|    388.58|     7.33|21.55|  0.0|              14.25|\n",
      "|2019-01-09|      M30|   1346.69|     6.62|20.93|58.02|               10.2|\n",
      "|2019-01-10|      M30|   1389.31|     6.61|21.43|58.98|              10.19|\n",
      "|2019-01-10|      URB|    401.06|      7.7|22.33|  0.0|              14.33|\n",
      "+----------+---------+----------+---------+-----+-----+-------------------+\n",
      "only showing top 20 rows\n",
      "\n"
     ]
    },
    {
     "name": "stderr",
     "output_type": "stream",
     "text": [
      "                                                                                \r"
     ]
    }
   ],
   "source": [
    "df_2019 = transformar('/data/trafico/DataTrafico/2019/01-2019.csv')\n",
    "df_2019 = df_2019.union(transformar('/data/trafico/DataTrafico/2019/02-2019.csv'))\n",
    "df_2019 = df_2019.union(transformar('/data/trafico/DataTrafico/2019/03-2019.csv'))\n",
    "df_2019 = df_2019.union(transformar('/data/trafico/DataTrafico/2019/04-2019.csv'))\n",
    "df_2019 = df_2019.union(transformar('/data/trafico/DataTrafico/2019/05-2019.csv'))\n",
    "df_2019 = df_2019.union(transformar('/data/trafico/DataTrafico/2019/06-2019.csv'))\n",
    "df_2019 = df_2019.union(transformar('/data/trafico/DataTrafico/2019/07-2019.csv'))\n",
    "df_2019 = df_2019.union(transformar('/data/trafico/DataTrafico/2019/08-2019.csv'))\n",
    "df_2019 = df_2019.union(transformar('/data/trafico/DataTrafico/2019/09-2019.csv'))\n",
    "df_2019 = df_2019.union(transformar('/data/trafico/DataTrafico/2019/10-2019.csv'))\n",
    "df_2019 = df_2019.union(transformar('/data/trafico/DataTrafico/2019/11-2019.csv'))\n",
    "df_2019 = df_2019.union(transformar('/data/trafico/DataTrafico/2019/12-2019.csv'))\n",
    "df_2019.sort(df_2019.dia.asc()).show()\n",
    "df_2019.toPandas().to_csv('/home/22058951Mario/2019.csv', index=False)"
   ]
  },
  {
   "cell_type": "code",
   "execution_count": 6,
   "id": "d58b08f1-198f-492b-823f-ba796c76de1c",
   "metadata": {
    "tags": []
   },
   "outputs": [
    {
     "name": "stderr",
     "output_type": "stream",
     "text": [
      "                                                                                \r"
     ]
    },
    {
     "name": "stdout",
     "output_type": "stream",
     "text": [
      "+----------+---------+----------+---------+-----+-----+-------------------+\n",
      "|       dia|tipo_elem|intensidad|ocupacion|carga| vmed|periodo_integracion|\n",
      "+----------+---------+----------+---------+-----+-----+-------------------+\n",
      "|2020-01-01|      URB|    223.56|     4.29|12.98|  0.0|              13.96|\n",
      "|2020-01-01|      M30|    876.96|     3.49|13.76|64.18|              10.22|\n",
      "|2020-01-02|      M30|   1199.85|     4.98|18.95|60.85|              10.02|\n",
      "|2020-01-02|      URB|    322.54|     6.58|18.87|  0.0|               14.1|\n",
      "|2020-01-03|      M30|   1228.77|     5.11|19.35|61.64|              10.22|\n",
      "|2020-01-03|      URB|    343.11|     6.94|20.02|  0.0|              14.27|\n",
      "|2020-01-04|      M30|    975.28|     3.89|15.71|63.54|              10.28|\n",
      "|2020-01-04|      URB|    280.74|     5.54| 16.5|  0.0|              14.17|\n",
      "|2020-01-05|      M30|    876.07|     3.49|14.03|64.33|              10.26|\n",
      "|2020-01-05|      URB|     249.6|     4.97|14.84|  0.0|              14.12|\n",
      "|2020-01-06|      M30|    970.54|     4.11| 14.9|63.06|               10.3|\n",
      "|2020-01-06|      URB|    261.81|     5.51|15.59|  0.0|              14.05|\n",
      "|2020-01-07|      M30|   1292.64|     5.55|20.38|60.59|              10.21|\n",
      "|2020-01-07|      URB|    356.34|     7.15|20.74|  0.0|               14.2|\n",
      "|2020-01-08|      M30|   1360.74|     6.37|21.23|59.39|              10.19|\n",
      "|2020-01-08|      URB|    374.61|      7.6|21.75|  0.0|               14.2|\n",
      "|2020-01-09|      M30|   1368.55|     6.63|21.45|57.34|              10.09|\n",
      "|2020-01-09|      URB|    381.06|     7.65|22.02|  0.0|              14.07|\n",
      "|2020-01-10|      M30|   1382.91|     6.81|21.81|57.27|              10.13|\n",
      "|2020-01-10|      URB|    392.83|     8.03|22.81|  0.0|              14.31|\n",
      "+----------+---------+----------+---------+-----+-----+-------------------+\n",
      "only showing top 20 rows\n",
      "\n"
     ]
    },
    {
     "name": "stderr",
     "output_type": "stream",
     "text": [
      "                                                                                \r"
     ]
    }
   ],
   "source": [
    "df_2020 = transformar('/data/trafico/DataTrafico/2020/01-2020.csv')\n",
    "df_2020 = df_2020.union(transformar('/data/trafico/DataTrafico/2020/02-2020.csv'))\n",
    "df_2020 = df_2020.union(transformar('/data/trafico/DataTrafico/2020/03-2020.csv'))\n",
    "df_2020 = df_2020.union(transformar('/data/trafico/DataTrafico/2020/04-2020.csv'))\n",
    "df_2020 = df_2020.union(transformar('/data/trafico/DataTrafico/2020/05-2020.csv'))\n",
    "df_2020 = df_2020.union(transformar('/data/trafico/DataTrafico/2020/06-2020.csv'))\n",
    "df_2020 = df_2020.union(transformar('/data/trafico/DataTrafico/2020/07-2020.csv'))\n",
    "df_2020 = df_2020.union(transformar('/data/trafico/DataTrafico/2020/08-2020.csv'))\n",
    "df_2020 = df_2020.union(transformar('/data/trafico/DataTrafico/2020/09-2020.csv'))\n",
    "df_2020 = df_2020.union(transformar('/data/trafico/DataTrafico/2020/10-2020.csv'))\n",
    "df_2020 = df_2020.union(transformar('/data/trafico/DataTrafico/2020/11-2020.csv'))\n",
    "df_2020 = df_2020.union(transformar('/data/trafico/DataTrafico/2020/12-2020.csv'))\n",
    "df_2020.sort(df_2020.dia.asc()).show()\n",
    "df_2020.toPandas().to_csv('/home/22058951Mario/2020.csv', index=False)"
   ]
  },
  {
   "cell_type": "code",
   "execution_count": 7,
   "id": "aa40c009-b4cb-456a-882e-e9318be57026",
   "metadata": {
    "tags": []
   },
   "outputs": [
    {
     "name": "stderr",
     "output_type": "stream",
     "text": [
      "                                                                                \r"
     ]
    },
    {
     "name": "stdout",
     "output_type": "stream",
     "text": [
      "+----------+---------+----------+---------+-----+-----+-------------------+\n",
      "|       dia|tipo_elem|intensidad|ocupacion|carga| vmed|periodo_integracion|\n",
      "+----------+---------+----------+---------+-----+-----+-------------------+\n",
      "|2021-01-01|      URB|    161.58|     2.76| 8.91|  0.0|               13.2|\n",
      "|2021-01-01|      M30|    589.01|     2.13| 9.17| 58.3|               10.4|\n",
      "|2021-01-02|      URB|    226.06|     3.93|12.51|  0.0|              13.62|\n",
      "|2021-01-02|      M30|    765.65|     2.93|12.27|57.99|              10.39|\n",
      "|2021-01-03|      URB|    205.03|     3.47|11.29|  0.0|              13.56|\n",
      "|2021-01-03|      M30|    717.26|     2.72|11.33|58.16|              10.38|\n",
      "|2021-01-04|      URB|     332.9|     6.05|18.37|  0.0|              14.34|\n",
      "|2021-01-04|      M30|   1110.13|     4.63|17.46|58.16|              10.33|\n",
      "|2021-01-05|      M30|   1093.66|     4.62|17.21|57.91|              10.29|\n",
      "|2021-01-05|      URB|    320.13|      5.9|17.82|  0.0|              13.99|\n",
      "|2021-01-06|      M30|    742.58|     2.85|11.47|56.98|              10.39|\n",
      "|2021-01-06|      URB|     199.9|     3.55| 11.2|  0.0|              13.45|\n",
      "|2021-01-07|      M30|   1009.06|     4.24|15.26|56.11|              10.28|\n",
      "|2021-01-07|      URB|    278.74|      5.1|15.53|  0.0|              13.98|\n",
      "|2021-01-08|      M30|    860.93|     4.22|11.43|49.73|              10.16|\n",
      "|2021-01-08|      URB|    227.14|     4.69|12.98|  0.0|              13.41|\n",
      "|2021-01-09|      URB|     58.95|     1.89| 3.74|  0.0|              10.07|\n",
      "|2021-01-09|      M30|     10.17|     0.11| 0.31| 3.93|              10.24|\n",
      "|2021-01-10|      M30|     25.19|     0.15| 0.58|10.47|              10.48|\n",
      "|2021-01-10|      URB|      63.1|     1.92|  3.9|  0.0|               9.59|\n",
      "+----------+---------+----------+---------+-----+-----+-------------------+\n",
      "only showing top 20 rows\n",
      "\n"
     ]
    },
    {
     "name": "stderr",
     "output_type": "stream",
     "text": [
      "                                                                                \r"
     ]
    }
   ],
   "source": [
    "df_2021 = transformar('/data/trafico/DataTrafico/2021/01-2021.csv')\n",
    "df_2021 = df_2021.union(transformar('/data/trafico/DataTrafico/2021/02-2021.csv'))\n",
    "df_2021 = df_2021.union(transformar('/data/trafico/DataTrafico/2021/03-2021.csv'))\n",
    "df_2021 = df_2021.union(transformar('/data/trafico/DataTrafico/2021/04-2021.csv'))\n",
    "df_2021 = df_2021.union(transformar('/data/trafico/DataTrafico/2021/05-2021.csv'))\n",
    "df_2021 = df_2021.union(transformar('/data/trafico/DataTrafico/2021/06-2021.csv'))\n",
    "df_2021 = df_2021.union(transformar('/data/trafico/DataTrafico/2021/07-2021.csv'))\n",
    "df_2021 = df_2021.union(transformar('/data/trafico/DataTrafico/2021/08-2021.csv'))\n",
    "df_2021 = df_2021.union(transformar('/data/trafico/DataTrafico/2021/09-2021.csv'))\n",
    "df_2021 = df_2021.union(transformar('/data/trafico/DataTrafico/2021/10-2021.csv'))\n",
    "df_2021 = df_2021.union(transformar('/data/trafico/DataTrafico/2021/11-2021.csv'))\n",
    "df_2021 = df_2021.union(transformar('/data/trafico/DataTrafico/2021/12-2021.csv'))\n",
    "df_2021.sort(df_2021.dia.asc()).show()\n",
    "df_2021.toPandas().to_csv('/home/22058951Mario/2021.csv', index=False)"
   ]
  },
  {
   "cell_type": "code",
   "execution_count": 8,
   "id": "b25f199b-1549-45bf-b3f4-26b12f85dcf0",
   "metadata": {
    "tags": []
   },
   "outputs": [
    {
     "name": "stderr",
     "output_type": "stream",
     "text": [
      "                                                                                \r"
     ]
    },
    {
     "name": "stdout",
     "output_type": "stream",
     "text": [
      "+----------+---------+----------+---------+-----+-----+-------------------+\n",
      "|       dia|tipo_elem|intensidad|ocupacion|carga| vmed|periodo_integracion|\n",
      "+----------+---------+----------+---------+-----+-----+-------------------+\n",
      "|2022-01-01|      URB|    180.68|     3.09|10.16|  0.0|              12.85|\n",
      "|2022-01-01|      M30|     668.5|     2.52|10.48|63.29|              10.23|\n",
      "|2022-01-02|      M30|    770.24|     2.84|12.12|61.49|              10.25|\n",
      "|2022-01-02|      URB|    207.83|     3.62|11.67|  0.0|              13.63|\n",
      "|2022-01-03|      URB|     297.2|     5.44|16.77|  0.0|              13.45|\n",
      "|2022-01-03|      M30|   1112.08|     4.31| 17.4|61.08|              10.25|\n",
      "|2022-01-04|      M30|   1134.03|     4.46| 17.7|60.02|              10.26|\n",
      "|2022-01-04|      URB|    302.99|      5.8|17.29|  0.0|              13.92|\n",
      "|2022-01-05|      URB|    298.57|     5.79|17.21|  0.0|              14.04|\n",
      "|2022-01-05|      M30|   1104.56|     4.49|17.24|59.62|              10.22|\n",
      "|2022-01-06|      URB|    205.36|     3.69|11.72|  0.0|              13.75|\n",
      "|2022-01-06|      M30|    777.39|      3.0|12.16|61.35|               10.3|\n",
      "|2022-01-07|      M30|   1078.42|     4.32|16.98|61.73|              10.22|\n",
      "|2022-01-07|      URB|    296.13|     5.28|16.62|  0.0|              14.09|\n",
      "|2022-01-08|      M30|    891.12|     3.43|14.28|62.83|              10.19|\n",
      "|2022-01-08|      URB|    249.41|      4.3|13.98|  0.0|              13.48|\n",
      "|2022-01-09|      M30|    825.44|      3.0|13.03|63.66|               10.3|\n",
      "|2022-01-09|      URB|    220.37|      3.7|12.35|  0.0|              13.49|\n",
      "|2022-01-10|      M30|   1218.37|     4.96|19.13| 59.8|              10.18|\n",
      "|2022-01-10|      URB|    324.96|     5.89|18.24|  0.0|              13.83|\n",
      "+----------+---------+----------+---------+-----+-----+-------------------+\n",
      "only showing top 20 rows\n",
      "\n"
     ]
    },
    {
     "name": "stderr",
     "output_type": "stream",
     "text": [
      "                                                                                \r"
     ]
    }
   ],
   "source": [
    "df_2022 = transformar('/data/trafico/DataTrafico/2022/01-2022.csv')\n",
    "df_2022 = df_2022.union(transformar('/data/trafico/DataTrafico/2022/02-2022.csv'))\n",
    "df_2022 = df_2022.union(transformar('/data/trafico/DataTrafico/2022/03-2022.csv'))\n",
    "df_2022 = df_2022.union(transformar('/data/trafico/DataTrafico/2022/04-2022.csv'))\n",
    "df_2022 = df_2022.union(transformar('/data/trafico/DataTrafico/2022/05-2022.csv'))\n",
    "df_2022 = df_2022.union(transformar('/data/trafico/DataTrafico/2022/06-2022.csv'))\n",
    "df_2022 = df_2022.union(transformar('/data/trafico/DataTrafico/2022/07-2022.csv'))\n",
    "df_2022 = df_2022.union(transformar('/data/trafico/DataTrafico/2022/08-2022.csv'))\n",
    "df_2022 = df_2022.union(transformar('/data/trafico/DataTrafico/2022/09-2022.csv'))\n",
    "df_2022 = df_2022.union(transformar('/data/trafico/DataTrafico/2022/10-2022.csv'))\n",
    "df_2022 = df_2022.union(transformar('/data/trafico/DataTrafico/2022/11-2022.csv'))\n",
    "df_2022 = df_2022.union(transformar('/data/trafico/DataTrafico/2022/12-2022.csv'))\n",
    "df_2022.sort(df_2022.dia.asc()).show()\n",
    "df_2022.toPandas().to_csv('/home/22058951Mario/2022.csv', index=False)"
   ]
  }
 ],
 "metadata": {
  "kernelspec": {
   "display_name": "Python 3 (ipykernel)",
   "language": "python",
   "name": "python3"
  },
  "language_info": {
   "codemirror_mode": {
    "name": "ipython",
    "version": 3
   },
   "file_extension": ".py",
   "mimetype": "text/x-python",
   "name": "python",
   "nbconvert_exporter": "python",
   "pygments_lexer": "ipython3",
   "version": "3.10.6"
  }
 },
 "nbformat": 4,
 "nbformat_minor": 5
}
